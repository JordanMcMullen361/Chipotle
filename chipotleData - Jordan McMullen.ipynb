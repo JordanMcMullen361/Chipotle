{
 "cells": [
  {
   "cell_type": "markdown",
   "id": "289f846c",
   "metadata": {},
   "source": [
    "# Chipolte Data"
   ]
  },
  {
   "cell_type": "markdown",
   "id": "7e10b861",
   "metadata": {},
   "source": [
    "Here is creating the directory/path to data"
   ]
  },
  {
   "cell_type": "code",
   "execution_count": 1,
   "id": "76ff0764",
   "metadata": {},
   "outputs": [],
   "source": [
    "import pandas as pd"
   ]
  },
  {
   "cell_type": "code",
   "execution_count": 49,
   "id": "5d3e0113",
   "metadata": {},
   "outputs": [
    {
     "data": {
      "text/plain": [
       "'C:\\\\Users\\\\GGPC\\\\Documents\\\\coding\\\\GA\\\\DATA'"
      ]
     },
     "execution_count": 49,
     "metadata": {},
     "output_type": "execute_result"
    }
   ],
   "source": [
    "import os\n",
    "os.getcwd()\n",
    "\n",
    "from pathlib import Path\n",
    "path = Path('C://Users//GGPC//Documents//coding//GA//DATA')\n",
    "path = str(path)\n",
    "os.chdir(path)\n",
    "os.getcwd()"
   ]
  },
  {
   "cell_type": "code",
   "execution_count": 50,
   "id": "12fbbfd4",
   "metadata": {},
   "outputs": [
    {
     "data": {
      "text/html": [
       "<div>\n",
       "<style scoped>\n",
       "    .dataframe tbody tr th:only-of-type {\n",
       "        vertical-align: middle;\n",
       "    }\n",
       "\n",
       "    .dataframe tbody tr th {\n",
       "        vertical-align: top;\n",
       "    }\n",
       "\n",
       "    .dataframe thead th {\n",
       "        text-align: right;\n",
       "    }\n",
       "</style>\n",
       "<table border=\"1\" class=\"dataframe\">\n",
       "  <thead>\n",
       "    <tr style=\"text-align: right;\">\n",
       "      <th></th>\n",
       "      <th>order_id</th>\n",
       "      <th>quantity</th>\n",
       "      <th>item_name</th>\n",
       "      <th>choice_description</th>\n",
       "      <th>item_price</th>\n",
       "    </tr>\n",
       "  </thead>\n",
       "  <tbody>\n",
       "    <tr>\n",
       "      <th>0</th>\n",
       "      <td>1</td>\n",
       "      <td>1</td>\n",
       "      <td>Chips and Fresh Tomato Salsa</td>\n",
       "      <td>NaN</td>\n",
       "      <td>$2.39</td>\n",
       "    </tr>\n",
       "    <tr>\n",
       "      <th>1</th>\n",
       "      <td>1</td>\n",
       "      <td>1</td>\n",
       "      <td>Izze</td>\n",
       "      <td>[Clementine]</td>\n",
       "      <td>$3.39</td>\n",
       "    </tr>\n",
       "    <tr>\n",
       "      <th>2</th>\n",
       "      <td>1</td>\n",
       "      <td>1</td>\n",
       "      <td>Nantucket Nectar</td>\n",
       "      <td>[Apple]</td>\n",
       "      <td>$3.39</td>\n",
       "    </tr>\n",
       "    <tr>\n",
       "      <th>3</th>\n",
       "      <td>1</td>\n",
       "      <td>1</td>\n",
       "      <td>Chips and Tomatillo-Green Chili Salsa</td>\n",
       "      <td>NaN</td>\n",
       "      <td>$2.39</td>\n",
       "    </tr>\n",
       "    <tr>\n",
       "      <th>4</th>\n",
       "      <td>2</td>\n",
       "      <td>2</td>\n",
       "      <td>Chicken Bowl</td>\n",
       "      <td>[Tomatillo-Red Chili Salsa (Hot), [Black Beans...</td>\n",
       "      <td>$16.98</td>\n",
       "    </tr>\n",
       "    <tr>\n",
       "      <th>...</th>\n",
       "      <td>...</td>\n",
       "      <td>...</td>\n",
       "      <td>...</td>\n",
       "      <td>...</td>\n",
       "      <td>...</td>\n",
       "    </tr>\n",
       "    <tr>\n",
       "      <th>4617</th>\n",
       "      <td>1833</td>\n",
       "      <td>1</td>\n",
       "      <td>Steak Burrito</td>\n",
       "      <td>[Fresh Tomato Salsa, [Rice, Black Beans, Sour ...</td>\n",
       "      <td>$11.75</td>\n",
       "    </tr>\n",
       "    <tr>\n",
       "      <th>4618</th>\n",
       "      <td>1833</td>\n",
       "      <td>1</td>\n",
       "      <td>Steak Burrito</td>\n",
       "      <td>[Fresh Tomato Salsa, [Rice, Sour Cream, Cheese...</td>\n",
       "      <td>$11.75</td>\n",
       "    </tr>\n",
       "    <tr>\n",
       "      <th>4619</th>\n",
       "      <td>1834</td>\n",
       "      <td>1</td>\n",
       "      <td>Chicken Salad Bowl</td>\n",
       "      <td>[Fresh Tomato Salsa, [Fajita Vegetables, Pinto...</td>\n",
       "      <td>$11.25</td>\n",
       "    </tr>\n",
       "    <tr>\n",
       "      <th>4620</th>\n",
       "      <td>1834</td>\n",
       "      <td>1</td>\n",
       "      <td>Chicken Salad Bowl</td>\n",
       "      <td>[Fresh Tomato Salsa, [Fajita Vegetables, Lettu...</td>\n",
       "      <td>$8.75</td>\n",
       "    </tr>\n",
       "    <tr>\n",
       "      <th>4621</th>\n",
       "      <td>1834</td>\n",
       "      <td>1</td>\n",
       "      <td>Chicken Salad Bowl</td>\n",
       "      <td>[Fresh Tomato Salsa, [Fajita Vegetables, Pinto...</td>\n",
       "      <td>$8.75</td>\n",
       "    </tr>\n",
       "  </tbody>\n",
       "</table>\n",
       "<p>4622 rows × 5 columns</p>\n",
       "</div>"
      ],
      "text/plain": [
       "      order_id  quantity                              item_name  \\\n",
       "0            1         1           Chips and Fresh Tomato Salsa   \n",
       "1            1         1                                   Izze   \n",
       "2            1         1                       Nantucket Nectar   \n",
       "3            1         1  Chips and Tomatillo-Green Chili Salsa   \n",
       "4            2         2                           Chicken Bowl   \n",
       "...        ...       ...                                    ...   \n",
       "4617      1833         1                          Steak Burrito   \n",
       "4618      1833         1                          Steak Burrito   \n",
       "4619      1834         1                     Chicken Salad Bowl   \n",
       "4620      1834         1                     Chicken Salad Bowl   \n",
       "4621      1834         1                     Chicken Salad Bowl   \n",
       "\n",
       "                                     choice_description item_price  \n",
       "0                                                   NaN     $2.39   \n",
       "1                                          [Clementine]     $3.39   \n",
       "2                                               [Apple]     $3.39   \n",
       "3                                                   NaN     $2.39   \n",
       "4     [Tomatillo-Red Chili Salsa (Hot), [Black Beans...    $16.98   \n",
       "...                                                 ...        ...  \n",
       "4617  [Fresh Tomato Salsa, [Rice, Black Beans, Sour ...    $11.75   \n",
       "4618  [Fresh Tomato Salsa, [Rice, Sour Cream, Cheese...    $11.75   \n",
       "4619  [Fresh Tomato Salsa, [Fajita Vegetables, Pinto...    $11.25   \n",
       "4620  [Fresh Tomato Salsa, [Fajita Vegetables, Lettu...     $8.75   \n",
       "4621  [Fresh Tomato Salsa, [Fajita Vegetables, Pinto...     $8.75   \n",
       "\n",
       "[4622 rows x 5 columns]"
      ]
     },
     "execution_count": 50,
     "metadata": {},
     "output_type": "execute_result"
    }
   ],
   "source": [
    "chipotle = pd.read_csv(path + '//chipotle.csv')\n",
    "chipotle"
   ]
  },
  {
   "cell_type": "markdown",
   "id": "12534369",
   "metadata": {},
   "source": [
    "## 1\n",
    "\n",
    "Display columns\n",
    "\n"
   ]
  },
  {
   "cell_type": "code",
   "execution_count": 51,
   "id": "4d628224",
   "metadata": {},
   "outputs": [
    {
     "name": "stdout",
     "output_type": "stream",
     "text": [
      "Coloumn Names:  ['order_id', 'quantity', 'item_name', 'choice_description', 'item_price']\n"
     ]
    }
   ],
   "source": [
    "list_of_column_names = list(chipotle.columns)\n",
    "print(\"Coloumn Names: \",list_of_column_names)\n",
    "\n",
    "\n",
    "#chipotle.columns"
   ]
  },
  {
   "cell_type": "markdown",
   "id": "ff8b8c33",
   "metadata": {},
   "source": [
    "## 2\n",
    "\n",
    "Display first 10 records of the data"
   ]
  },
  {
   "cell_type": "code",
   "execution_count": 52,
   "id": "1934874d",
   "metadata": {},
   "outputs": [
    {
     "data": {
      "text/html": [
       "<div>\n",
       "<style scoped>\n",
       "    .dataframe tbody tr th:only-of-type {\n",
       "        vertical-align: middle;\n",
       "    }\n",
       "\n",
       "    .dataframe tbody tr th {\n",
       "        vertical-align: top;\n",
       "    }\n",
       "\n",
       "    .dataframe thead th {\n",
       "        text-align: right;\n",
       "    }\n",
       "</style>\n",
       "<table border=\"1\" class=\"dataframe\">\n",
       "  <thead>\n",
       "    <tr style=\"text-align: right;\">\n",
       "      <th></th>\n",
       "      <th>order_id</th>\n",
       "      <th>quantity</th>\n",
       "      <th>item_name</th>\n",
       "      <th>choice_description</th>\n",
       "      <th>item_price</th>\n",
       "    </tr>\n",
       "  </thead>\n",
       "  <tbody>\n",
       "    <tr>\n",
       "      <th>0</th>\n",
       "      <td>1</td>\n",
       "      <td>1</td>\n",
       "      <td>Chips and Fresh Tomato Salsa</td>\n",
       "      <td>NaN</td>\n",
       "      <td>$2.39</td>\n",
       "    </tr>\n",
       "    <tr>\n",
       "      <th>1</th>\n",
       "      <td>1</td>\n",
       "      <td>1</td>\n",
       "      <td>Izze</td>\n",
       "      <td>[Clementine]</td>\n",
       "      <td>$3.39</td>\n",
       "    </tr>\n",
       "    <tr>\n",
       "      <th>2</th>\n",
       "      <td>1</td>\n",
       "      <td>1</td>\n",
       "      <td>Nantucket Nectar</td>\n",
       "      <td>[Apple]</td>\n",
       "      <td>$3.39</td>\n",
       "    </tr>\n",
       "    <tr>\n",
       "      <th>3</th>\n",
       "      <td>1</td>\n",
       "      <td>1</td>\n",
       "      <td>Chips and Tomatillo-Green Chili Salsa</td>\n",
       "      <td>NaN</td>\n",
       "      <td>$2.39</td>\n",
       "    </tr>\n",
       "    <tr>\n",
       "      <th>4</th>\n",
       "      <td>2</td>\n",
       "      <td>2</td>\n",
       "      <td>Chicken Bowl</td>\n",
       "      <td>[Tomatillo-Red Chili Salsa (Hot), [Black Beans...</td>\n",
       "      <td>$16.98</td>\n",
       "    </tr>\n",
       "    <tr>\n",
       "      <th>5</th>\n",
       "      <td>3</td>\n",
       "      <td>1</td>\n",
       "      <td>Chicken Bowl</td>\n",
       "      <td>[Fresh Tomato Salsa (Mild), [Rice, Cheese, Sou...</td>\n",
       "      <td>$10.98</td>\n",
       "    </tr>\n",
       "    <tr>\n",
       "      <th>6</th>\n",
       "      <td>3</td>\n",
       "      <td>1</td>\n",
       "      <td>Side of Chips</td>\n",
       "      <td>NaN</td>\n",
       "      <td>$1.69</td>\n",
       "    </tr>\n",
       "    <tr>\n",
       "      <th>7</th>\n",
       "      <td>4</td>\n",
       "      <td>1</td>\n",
       "      <td>Steak Burrito</td>\n",
       "      <td>[Tomatillo Red Chili Salsa, [Fajita Vegetables...</td>\n",
       "      <td>$11.75</td>\n",
       "    </tr>\n",
       "    <tr>\n",
       "      <th>8</th>\n",
       "      <td>4</td>\n",
       "      <td>1</td>\n",
       "      <td>Steak Soft Tacos</td>\n",
       "      <td>[Tomatillo Green Chili Salsa, [Pinto Beans, Ch...</td>\n",
       "      <td>$9.25</td>\n",
       "    </tr>\n",
       "    <tr>\n",
       "      <th>9</th>\n",
       "      <td>5</td>\n",
       "      <td>1</td>\n",
       "      <td>Steak Burrito</td>\n",
       "      <td>[Fresh Tomato Salsa, [Rice, Black Beans, Pinto...</td>\n",
       "      <td>$9.25</td>\n",
       "    </tr>\n",
       "  </tbody>\n",
       "</table>\n",
       "</div>"
      ],
      "text/plain": [
       "   order_id  quantity                              item_name  \\\n",
       "0         1         1           Chips and Fresh Tomato Salsa   \n",
       "1         1         1                                   Izze   \n",
       "2         1         1                       Nantucket Nectar   \n",
       "3         1         1  Chips and Tomatillo-Green Chili Salsa   \n",
       "4         2         2                           Chicken Bowl   \n",
       "5         3         1                           Chicken Bowl   \n",
       "6         3         1                          Side of Chips   \n",
       "7         4         1                          Steak Burrito   \n",
       "8         4         1                       Steak Soft Tacos   \n",
       "9         5         1                          Steak Burrito   \n",
       "\n",
       "                                  choice_description item_price  \n",
       "0                                                NaN     $2.39   \n",
       "1                                       [Clementine]     $3.39   \n",
       "2                                            [Apple]     $3.39   \n",
       "3                                                NaN     $2.39   \n",
       "4  [Tomatillo-Red Chili Salsa (Hot), [Black Beans...    $16.98   \n",
       "5  [Fresh Tomato Salsa (Mild), [Rice, Cheese, Sou...    $10.98   \n",
       "6                                                NaN     $1.69   \n",
       "7  [Tomatillo Red Chili Salsa, [Fajita Vegetables...    $11.75   \n",
       "8  [Tomatillo Green Chili Salsa, [Pinto Beans, Ch...     $9.25   \n",
       "9  [Fresh Tomato Salsa, [Rice, Black Beans, Pinto...     $9.25   "
      ]
     },
     "execution_count": 52,
     "metadata": {},
     "output_type": "execute_result"
    }
   ],
   "source": [
    "chipotle.head(10)"
   ]
  },
  {
   "cell_type": "markdown",
   "id": "9d21949a",
   "metadata": {},
   "source": [
    "## 3\n",
    "\n",
    "What is the average price of an order?\n",
    "\n",
    "nned to look at quantity and grouping orders (18.8)"
   ]
  },
  {
   "cell_type": "code",
   "execution_count": 57,
   "id": "898f634f",
   "metadata": {},
   "outputs": [
    {
     "data": {
      "text/plain": [
       "1834"
      ]
     },
     "execution_count": 57,
     "metadata": {},
     "output_type": "execute_result"
    }
   ],
   "source": [
    "# Count the number of unique order_ids\n",
    "# Note: You could assume this is 1,834 as that's the maximum order_id, but it's best to check\n",
    "\n",
    "num_orders = len(set(chipotle.order_id))\n",
    "\n",
    "num_orders"
   ]
  },
  {
   "cell_type": "code",
   "execution_count": 63,
   "id": "83ee7b31",
   "metadata": {},
   "outputs": [
    {
     "data": {
      "text/plain": [
       "18.64"
      ]
     },
     "execution_count": 63,
     "metadata": {},
     "output_type": "execute_result"
    }
   ],
   "source": [
    "chipotle = chipotle.drop_duplicates()\n",
    "\n",
    "chipotle['adjusted_item_price'] = chipotle['item_price'].str.replace('$', '').str.replace(' ', '')\n",
    "#here i am removing the $ and any unwanted \"spaces\" and making a new coloum with these adjusted values\n",
    "\n",
    "chipotle['adjusted_item_price'] = chipotle['adjusted_item_price'].astype(str).astype(float)\n",
    "#here i am turing the new coloum from string values to floats\n",
    "\n",
    "#chipotle['total_order_price'] = chipotle['quantity'] * chipotle['adjusted_item_price']\n",
    "#Here i im making a new column with the adjusteditem price * the quantity ordered = this is not needed as the price incluse the quantity already\n",
    "\n",
    "order_total = chipotle.groupby('order_id').adjusted_item_price.sum()\n",
    "#here grouping the total order price by the order id\n",
    "\n",
    "order_total.mean().round(2)\n",
    "\n",
    "#round(sum(adjusted_item_price) / num_orders, 2)  \n",
    "#alternate way to do it"
   ]
  },
  {
   "cell_type": "markdown",
   "id": "bd5be7cc",
   "metadata": {},
   "source": [
    "## 4\n",
    "\n",
    "What are all of the unique canned sodas and soft drinks offered?"
   ]
  },
  {
   "cell_type": "code",
   "execution_count": 8,
   "id": "8ae75e57",
   "metadata": {},
   "outputs": [
    {
     "name": "stdout",
     "output_type": "stream",
     "text": [
      "Canned Soft Drink\n",
      "6 Pack Soft Drink\n",
      "Canned Soda\n"
     ]
    }
   ],
   "source": [
    "#here i am looking in the data to find all unique drinks in the item_name\n",
    "\n",
    "drink = chipotle[chipotle['item_name'].str.contains('drink', case=False)]['item_name'].unique()\n",
    "soda = chipotle[chipotle['item_name'].str.contains('soda', case=False)]['item_name'].unique()\n",
    "\n",
    "for item_drink in drink:\n",
    "    print(item_drink)\n",
    "for item_soda in soda:\n",
    "    print(item_soda)\n",
    "    "
   ]
  },
  {
   "cell_type": "code",
   "execution_count": 9,
   "id": "fb8d818b",
   "metadata": {
    "scrolled": true
   },
   "outputs": [
    {
     "data": {
      "text/plain": [
       "item_name\n",
       "True    [[Coke], [Sprite], [Lemonade], [Diet Coke], [N...\n",
       "Name: choice_description, dtype: object"
      ]
     },
     "execution_count": 9,
     "metadata": {},
     "output_type": "execute_result"
    }
   ],
   "source": [
    "#Here i am using groupby to group all objects in the item_name called canned soft drink tand getting all the unique choice discriptions in that group\n",
    "#then using loc() to only show the object found true to the group - Loc[0,:] would show the false items (all items not in the canned drink group)\n",
    "\n",
    "canned_soft_drink_unique = chipotle['choice_description'].groupby(chipotle['item_name'] == 'Canned Soft Drink').unique()\n",
    "canned_soft_drink_unique.loc[1:]"
   ]
  },
  {
   "cell_type": "code",
   "execution_count": 10,
   "id": "c3afddb1",
   "metadata": {},
   "outputs": [
    {
     "data": {
      "text/plain": [
       "item_name\n",
       "True    [[Sprite], [Diet Coke], [Coke], [Nestea], [Lem...\n",
       "Name: choice_description, dtype: object"
      ]
     },
     "execution_count": 10,
     "metadata": {},
     "output_type": "execute_result"
    }
   ],
   "source": [
    "pack_soft_drink_unique = chipotle['choice_description'].groupby(chipotle['item_name'] == '6 Pack Soft Drink').unique()\n",
    "pack_soft_drink_unique.loc[1:]"
   ]
  },
  {
   "cell_type": "code",
   "execution_count": 11,
   "id": "626cebaf",
   "metadata": {},
   "outputs": [
    {
     "data": {
      "text/plain": [
       "item_name\n",
       "True    [[Sprite], [Dr. Pepper], [Mountain Dew], [Diet...\n",
       "Name: choice_description, dtype: object"
      ]
     },
     "execution_count": 11,
     "metadata": {},
     "output_type": "execute_result"
    }
   ],
   "source": [
    "canned_soda_unique = chipotle['choice_description'].groupby(chipotle['item_name'] == 'Canned Soda').unique()\n",
    "canned_soda_unique.loc[1:]"
   ]
  },
  {
   "cell_type": "code",
   "execution_count": 70,
   "id": "1320ab9d",
   "metadata": {},
   "outputs": [
    {
     "data": {
      "text/plain": [
       "{'[Coca Cola]',\n",
       " '[Coke]',\n",
       " '[Diet Coke]',\n",
       " '[Diet Dr. Pepper]',\n",
       " '[Dr. Pepper]',\n",
       " '[Lemonade]',\n",
       " '[Mountain Dew]',\n",
       " '[Nestea]',\n",
       " '[Sprite]'}"
      ]
     },
     "execution_count": 70,
     "metadata": {},
     "output_type": "execute_result"
    }
   ],
   "source": [
    "# Final one\n",
    "\n",
    "soda_type = sSalsaet(chipotle['choice_description'][chipotle['item_name'].isin(['Canned Soft Drink', '6 Pack Soft Drink', 'Canned Soda'])].unique())\n",
    "\n",
    "soda_type\n",
    "\n"
   ]
  },
  {
   "cell_type": "markdown",
   "id": "3b337336",
   "metadata": {},
   "source": [
    "## 5\n",
    "\n",
    "What are the Average Number of topping per burrito? Calculate the average number of toppings per burrito. Note: Let's ignore the 'quantity' column to simplify this task. Hint: Think carefully about the easiest way to count the number of toppings!\n",
    "\n"
   ]
  },
  {
   "cell_type": "code",
   "execution_count": 21,
   "id": "4a7ca9e7",
   "metadata": {
    "scrolled": true
   },
   "outputs": [
    {
     "name": "stderr",
     "output_type": "stream",
     "text": [
      "C:\\Users\\GGPC\\AppData\\Local\\Temp\\ipykernel_25652\\390001541.py:4: SettingWithCopyWarning: \n",
      "A value is trying to be set on a copy of a slice from a DataFrame.\n",
      "Try using .loc[row_indexer,col_indexer] = value instead\n",
      "\n",
      "See the caveats in the documentation: https://pandas.pydata.org/pandas-docs/stable/user_guide/indexing.html#returning-a-view-versus-a-copy\n",
      "  burrito_rows['choice_description_length'] = burrito_rows['choice_description'].str.split(',').apply(len)\n"
     ]
    },
    {
     "data": {
      "text/plain": [
       "5.4"
      ]
     },
     "execution_count": 21,
     "metadata": {},
     "output_type": "execute_result"
    }
   ],
   "source": [
    "burrito_rows = chipotle[chipotle['item_name'].str.contains('burrito', case = False)]\n",
    "#finding all rows that contain the word burrito\n",
    "\n",
    "burrito_rows['choice_description_length'] = burrito_rows['choice_description'].str.split(',').apply(len)\n",
    "#making a new column in the new dataframe which looks at the choice discriptios as a string then splits the list at the ',' and obtians the length of the list\n",
    "\n",
    "mean_toppings = round(burrito_rows['choice_description_length'].mean(),2)\n",
    "\n",
    "mean_toppings\n"
   ]
  },
  {
   "cell_type": "markdown",
   "id": "9f3154f3",
   "metadata": {},
   "source": [
    "## 6 \n",
    "Create a dictionary or dataframe in which the keys represent chip orders and the values represent the total number of orders. Expected output: {'Chips and Roasted Chili-Corn Salsa': 18, ... } Note: Please take the 'quantity' column into account! Optional: Learn how to use 'defaultdict' to simplify your code.\n",
    "\n"
   ]
  },
  {
   "cell_type": "code",
   "execution_count": 14,
   "id": "3759c754",
   "metadata": {},
   "outputs": [],
   "source": [
    "from collections import defaultdict"
   ]
  },
  {
   "cell_type": "code",
   "execution_count": 15,
   "id": "969e2ef9",
   "metadata": {
    "scrolled": true
   },
   "outputs": [
    {
     "data": {
      "text/plain": [
       "defaultdict(int,\n",
       "            {'Chips and Fresh Tomato Salsa': 130,\n",
       "             'Chips and Tomatillo-Green Chili Salsa': 33,\n",
       "             'Side of Chips': 110,\n",
       "             'Chips and Guacamole': 506,\n",
       "             'Chips and Tomatillo Green Chili Salsa': 45,\n",
       "             'Chips': 230,\n",
       "             'Chips and Tomatillo Red Chili Salsa': 50,\n",
       "             'Chips and Roasted Chili-Corn Salsa': 18,\n",
       "             'Chips and Roasted Chili Corn Salsa': 23,\n",
       "             'Chips and Tomatillo-Red Chili Salsa': 25,\n",
       "             'Chips and Mild Fresh Tomato Salsa': 1})"
      ]
     },
     "execution_count": 15,
     "metadata": {},
     "output_type": "execute_result"
    }
   ],
   "source": [
    "chip_orders = defaultdict(int)\n",
    "#use defaultdict to create a empty dictionary called chip_orders\n",
    "\n",
    "for index, row in chipotle.iterrows():\n",
    "    '''\n",
    "    using iterrow to iterate through the rows of the chipotle dataframe. \n",
    "    and if the word chips is found in the coloumn \"item name\" \n",
    "    both the chip name is added in the key position and the quantities in the value position\n",
    "    '''\n",
    "    if 'Chips' in row['item_name']:\n",
    "        chip_orders[row['item_name']] += row['quantity']\n",
    "    \n",
    "chip_orders"
   ]
  },
  {
   "cell_type": "code",
   "execution_count": 17,
   "id": "83026521",
   "metadata": {},
   "outputs": [
    {
     "data": {
      "text/plain": [
       "defaultdict(int,\n",
       "            {'Chips and Guacamole': 506,\n",
       "             'Chips': 230,\n",
       "             'Chips and Fresh Tomato Salsa': 130,\n",
       "             'Side of Chips': 110,\n",
       "             'Chips and Tomatillo Red Chili Salsa': 50,\n",
       "             'Chips and Tomatillo Green Chili Salsa': 45,\n",
       "             'Chips and Tomatillo-Green Chili Salsa': 33,\n",
       "             'Chips and Tomatillo-Red Chili Salsa': 25,\n",
       "             'Chips and Roasted Chili Corn Salsa': 23,\n",
       "             'Chips and Roasted Chili-Corn Salsa': 18,\n",
       "             'Chips and Mild Fresh Tomato Salsa': 1})"
      ]
     },
     "execution_count": 17,
     "metadata": {},
     "output_type": "execute_result"
    }
   ],
   "source": [
    "new_chip_orders = defaultdict(int)\n",
    "\n",
    "#here i am making a new dtatframe that filters though the item_name column and find onlt the rows contianing chips\n",
    "chip_rows = chipotle[chipotle['item_name'].str.contains('chips', case = False)]\n",
    "\n",
    "#grouping the new chip rows dataframe by the item names then summing the quantity column fro each group\n",
    "chip_group = chip_rows.groupby('item_name')['quantity'].sum()\n",
    "\n",
    "#this goes though the grouped data using the .items() method to access the item_name(key) and quntity(value)\n",
    "#the item name and quantity are then added to the new dictionary new_chip_orders. (defaultdict helps to default missing data with 0)\n",
    "#the key = lambda x, x[1] tells the sorted fuction to sort based on the 2 element(quantity) and in the reverse order from hight -low\n",
    "for item_name, quantity in sorted(chip_group.items(), key=lambda x: x[1], reverse=True):\n",
    "    new_chip_orders[item_name] += quantity\n",
    "\n",
    "new_chip_orders"
   ]
  }
 ],
 "metadata": {
  "kernelspec": {
   "display_name": "Python 3 (ipykernel)",
   "language": "python",
   "name": "python3"
  },
  "language_info": {
   "codemirror_mode": {
    "name": "ipython",
    "version": 3
   },
   "file_extension": ".py",
   "mimetype": "text/x-python",
   "name": "python",
   "nbconvert_exporter": "python",
   "pygments_lexer": "ipython3",
   "version": "3.11.5"
  }
 },
 "nbformat": 4,
 "nbformat_minor": 5
}
