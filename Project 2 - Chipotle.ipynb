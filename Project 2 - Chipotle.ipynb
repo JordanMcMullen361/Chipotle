{
 "cells": [
  {
   "cell_type": "markdown",
   "id": "0988d365",
   "metadata": {},
   "source": [
    "### Project 2"
   ]
  },
  {
   "cell_type": "markdown",
   "id": "90a15971",
   "metadata": {},
   "source": [
    "Question\n",
    "\n",
    "Which taco option is most popular\n",
    "\n",
    "what is the average mean number of choices per taco option\n",
    "\n",
    "which choices is most popular for each taco option\n"
   ]
  },
  {
   "cell_type": "code",
   "execution_count": 1,
   "id": "21d7d706",
   "metadata": {},
   "outputs": [],
   "source": [
    "import os\n",
    "from pathlib import Path\n",
    "import pandas as pd\n",
    "import numpy as np\n",
    "import seaborn as sns\n",
    "\n",
    "path = str(Path('C://Users//GGPC//Documents//coding//GA//DATA'))\n",
    "os.chdir(path)\n",
    "os.getcwd()\n",
    "\n",
    "df = pd.read_csv(path + '//chipotle.csv')"
   ]
  },
  {
   "cell_type": "code",
   "execution_count": 2,
   "id": "2de2e31e",
   "metadata": {},
   "outputs": [],
   "source": [
    "df = df = df.replace(np.nan, 0)"
   ]
  },
  {
   "cell_type": "code",
   "execution_count": 3,
   "id": "f515516e",
   "metadata": {},
   "outputs": [
    {
     "data": {
      "text/plain": [
       "order_id               int64\n",
       "quantity               int64\n",
       "item_name             object\n",
       "choice_description    object\n",
       "item_price            object\n",
       "dtype: object"
      ]
     },
     "execution_count": 3,
     "metadata": {},
     "output_type": "execute_result"
    }
   ],
   "source": [
    "df.dtypes"
   ]
  },
  {
   "cell_type": "code",
   "execution_count": 4,
   "id": "f072d5bd",
   "metadata": {},
   "outputs": [
    {
     "data": {
      "text/html": [
       "<div>\n",
       "<style scoped>\n",
       "    .dataframe tbody tr th:only-of-type {\n",
       "        vertical-align: middle;\n",
       "    }\n",
       "\n",
       "    .dataframe tbody tr th {\n",
       "        vertical-align: top;\n",
       "    }\n",
       "\n",
       "    .dataframe thead th {\n",
       "        text-align: right;\n",
       "    }\n",
       "</style>\n",
       "<table border=\"1\" class=\"dataframe\">\n",
       "  <thead>\n",
       "    <tr style=\"text-align: right;\">\n",
       "      <th></th>\n",
       "      <th>order_id</th>\n",
       "      <th>quantity</th>\n",
       "      <th>item_name</th>\n",
       "      <th>choice_description</th>\n",
       "      <th>item_price</th>\n",
       "    </tr>\n",
       "  </thead>\n",
       "  <tbody>\n",
       "    <tr>\n",
       "      <th>0</th>\n",
       "      <td>1</td>\n",
       "      <td>1</td>\n",
       "      <td>Chips and Fresh Tomato Salsa</td>\n",
       "      <td>0</td>\n",
       "      <td>$2.39</td>\n",
       "    </tr>\n",
       "    <tr>\n",
       "      <th>1</th>\n",
       "      <td>1</td>\n",
       "      <td>1</td>\n",
       "      <td>Izze</td>\n",
       "      <td>[Clementine]</td>\n",
       "      <td>$3.39</td>\n",
       "    </tr>\n",
       "    <tr>\n",
       "      <th>2</th>\n",
       "      <td>1</td>\n",
       "      <td>1</td>\n",
       "      <td>Nantucket Nectar</td>\n",
       "      <td>[Apple]</td>\n",
       "      <td>$3.39</td>\n",
       "    </tr>\n",
       "    <tr>\n",
       "      <th>3</th>\n",
       "      <td>1</td>\n",
       "      <td>1</td>\n",
       "      <td>Chips and Tomatillo-Green Chili Salsa</td>\n",
       "      <td>0</td>\n",
       "      <td>$2.39</td>\n",
       "    </tr>\n",
       "    <tr>\n",
       "      <th>4</th>\n",
       "      <td>2</td>\n",
       "      <td>2</td>\n",
       "      <td>Chicken Bowl</td>\n",
       "      <td>[Tomatillo-Red Chili Salsa (Hot), [Black Beans...</td>\n",
       "      <td>$16.98</td>\n",
       "    </tr>\n",
       "    <tr>\n",
       "      <th>...</th>\n",
       "      <td>...</td>\n",
       "      <td>...</td>\n",
       "      <td>...</td>\n",
       "      <td>...</td>\n",
       "      <td>...</td>\n",
       "    </tr>\n",
       "    <tr>\n",
       "      <th>4617</th>\n",
       "      <td>1833</td>\n",
       "      <td>1</td>\n",
       "      <td>Steak Burrito</td>\n",
       "      <td>[Fresh Tomato Salsa, [Rice, Black Beans, Sour ...</td>\n",
       "      <td>$11.75</td>\n",
       "    </tr>\n",
       "    <tr>\n",
       "      <th>4618</th>\n",
       "      <td>1833</td>\n",
       "      <td>1</td>\n",
       "      <td>Steak Burrito</td>\n",
       "      <td>[Fresh Tomato Salsa, [Rice, Sour Cream, Cheese...</td>\n",
       "      <td>$11.75</td>\n",
       "    </tr>\n",
       "    <tr>\n",
       "      <th>4619</th>\n",
       "      <td>1834</td>\n",
       "      <td>1</td>\n",
       "      <td>Chicken Salad Bowl</td>\n",
       "      <td>[Fresh Tomato Salsa, [Fajita Vegetables, Pinto...</td>\n",
       "      <td>$11.25</td>\n",
       "    </tr>\n",
       "    <tr>\n",
       "      <th>4620</th>\n",
       "      <td>1834</td>\n",
       "      <td>1</td>\n",
       "      <td>Chicken Salad Bowl</td>\n",
       "      <td>[Fresh Tomato Salsa, [Fajita Vegetables, Lettu...</td>\n",
       "      <td>$8.75</td>\n",
       "    </tr>\n",
       "    <tr>\n",
       "      <th>4621</th>\n",
       "      <td>1834</td>\n",
       "      <td>1</td>\n",
       "      <td>Chicken Salad Bowl</td>\n",
       "      <td>[Fresh Tomato Salsa, [Fajita Vegetables, Pinto...</td>\n",
       "      <td>$8.75</td>\n",
       "    </tr>\n",
       "  </tbody>\n",
       "</table>\n",
       "<p>4622 rows × 5 columns</p>\n",
       "</div>"
      ],
      "text/plain": [
       "      order_id  quantity                              item_name  \\\n",
       "0            1         1           Chips and Fresh Tomato Salsa   \n",
       "1            1         1                                   Izze   \n",
       "2            1         1                       Nantucket Nectar   \n",
       "3            1         1  Chips and Tomatillo-Green Chili Salsa   \n",
       "4            2         2                           Chicken Bowl   \n",
       "...        ...       ...                                    ...   \n",
       "4617      1833         1                          Steak Burrito   \n",
       "4618      1833         1                          Steak Burrito   \n",
       "4619      1834         1                     Chicken Salad Bowl   \n",
       "4620      1834         1                     Chicken Salad Bowl   \n",
       "4621      1834         1                     Chicken Salad Bowl   \n",
       "\n",
       "                                     choice_description item_price  \n",
       "0                                                     0      $2.39  \n",
       "1                                          [Clementine]      $3.39  \n",
       "2                                               [Apple]      $3.39  \n",
       "3                                                     0      $2.39  \n",
       "4     [Tomatillo-Red Chili Salsa (Hot), [Black Beans...     $16.98  \n",
       "...                                                 ...        ...  \n",
       "4617  [Fresh Tomato Salsa, [Rice, Black Beans, Sour ...     $11.75  \n",
       "4618  [Fresh Tomato Salsa, [Rice, Sour Cream, Cheese...     $11.75  \n",
       "4619  [Fresh Tomato Salsa, [Fajita Vegetables, Pinto...     $11.25  \n",
       "4620  [Fresh Tomato Salsa, [Fajita Vegetables, Lettu...      $8.75  \n",
       "4621  [Fresh Tomato Salsa, [Fajita Vegetables, Pinto...      $8.75  \n",
       "\n",
       "[4622 rows x 5 columns]"
      ]
     },
     "execution_count": 4,
     "metadata": {},
     "output_type": "execute_result"
    }
   ],
   "source": [
    "#creating a new dataframe called tacos from the chipotle - this stopped the error about makinga  copy of a slice froma df\n",
    "tacos = pd.DataFrame(df)\n",
    "tacos"
   ]
  },
  {
   "cell_type": "code",
   "execution_count": 5,
   "id": "89b0dcdf",
   "metadata": {},
   "outputs": [
    {
     "data": {
      "text/html": [
       "<div>\n",
       "<style scoped>\n",
       "    .dataframe tbody tr th:only-of-type {\n",
       "        vertical-align: middle;\n",
       "    }\n",
       "\n",
       "    .dataframe tbody tr th {\n",
       "        vertical-align: top;\n",
       "    }\n",
       "\n",
       "    .dataframe thead th {\n",
       "        text-align: right;\n",
       "    }\n",
       "</style>\n",
       "<table border=\"1\" class=\"dataframe\">\n",
       "  <thead>\n",
       "    <tr style=\"text-align: right;\">\n",
       "      <th></th>\n",
       "      <th>order_id</th>\n",
       "      <th>quantity</th>\n",
       "      <th>item_name</th>\n",
       "      <th>choice_description</th>\n",
       "      <th>item_price</th>\n",
       "    </tr>\n",
       "  </thead>\n",
       "  <tbody>\n",
       "    <tr>\n",
       "      <th>8</th>\n",
       "      <td>4</td>\n",
       "      <td>1</td>\n",
       "      <td>Steak Soft Tacos</td>\n",
       "      <td>[Tomatillo Green Chili Salsa, [Pinto Beans, Ch...</td>\n",
       "      <td>$9.25</td>\n",
       "    </tr>\n",
       "    <tr>\n",
       "      <th>11</th>\n",
       "      <td>6</td>\n",
       "      <td>1</td>\n",
       "      <td>Chicken Crispy Tacos</td>\n",
       "      <td>[Roasted Chili Corn Salsa, [Fajita Vegetables,...</td>\n",
       "      <td>$8.75</td>\n",
       "    </tr>\n",
       "    <tr>\n",
       "      <th>12</th>\n",
       "      <td>6</td>\n",
       "      <td>1</td>\n",
       "      <td>Chicken Soft Tacos</td>\n",
       "      <td>[Roasted Chili Corn Salsa, [Rice, Black Beans,...</td>\n",
       "      <td>$8.75</td>\n",
       "    </tr>\n",
       "    <tr>\n",
       "      <th>35</th>\n",
       "      <td>18</td>\n",
       "      <td>1</td>\n",
       "      <td>Chicken Soft Tacos</td>\n",
       "      <td>[Roasted Chili Corn Salsa, Rice]</td>\n",
       "      <td>$8.75</td>\n",
       "    </tr>\n",
       "    <tr>\n",
       "      <th>36</th>\n",
       "      <td>18</td>\n",
       "      <td>1</td>\n",
       "      <td>Chicken Soft Tacos</td>\n",
       "      <td>[Roasted Chili Corn Salsa, [Cheese, Lettuce]]</td>\n",
       "      <td>$8.75</td>\n",
       "    </tr>\n",
       "    <tr>\n",
       "      <th>...</th>\n",
       "      <td>...</td>\n",
       "      <td>...</td>\n",
       "      <td>...</td>\n",
       "      <td>...</td>\n",
       "      <td>...</td>\n",
       "    </tr>\n",
       "    <tr>\n",
       "      <th>4549</th>\n",
       "      <td>1808</td>\n",
       "      <td>1</td>\n",
       "      <td>Steak Soft Tacos</td>\n",
       "      <td>[Tomatillo Green Chili Salsa, [Rice, Pinto Bea...</td>\n",
       "      <td>$9.25</td>\n",
       "    </tr>\n",
       "    <tr>\n",
       "      <th>4550</th>\n",
       "      <td>1809</td>\n",
       "      <td>1</td>\n",
       "      <td>Chicken Soft Tacos</td>\n",
       "      <td>[Fresh Tomato Salsa, [Fajita Vegetables, Chees...</td>\n",
       "      <td>$8.75</td>\n",
       "    </tr>\n",
       "    <tr>\n",
       "      <th>4554</th>\n",
       "      <td>1810</td>\n",
       "      <td>1</td>\n",
       "      <td>Steak Crispy Tacos</td>\n",
       "      <td>[Roasted Chili Corn Salsa, [Fajita Vegetables,...</td>\n",
       "      <td>$11.75</td>\n",
       "    </tr>\n",
       "    <tr>\n",
       "      <th>4557</th>\n",
       "      <td>1811</td>\n",
       "      <td>1</td>\n",
       "      <td>Carnitas Soft Tacos</td>\n",
       "      <td>[Tomatillo Red Chili Salsa, [Fajita Vegetables...</td>\n",
       "      <td>$9.25</td>\n",
       "    </tr>\n",
       "    <tr>\n",
       "      <th>4615</th>\n",
       "      <td>1832</td>\n",
       "      <td>1</td>\n",
       "      <td>Chicken Soft Tacos</td>\n",
       "      <td>[Fresh Tomato Salsa, [Rice, Cheese, Sour Cream]]</td>\n",
       "      <td>$8.75</td>\n",
       "    </tr>\n",
       "  </tbody>\n",
       "</table>\n",
       "<p>345 rows × 5 columns</p>\n",
       "</div>"
      ],
      "text/plain": [
       "      order_id  quantity             item_name  \\\n",
       "8            4         1      Steak Soft Tacos   \n",
       "11           6         1  Chicken Crispy Tacos   \n",
       "12           6         1    Chicken Soft Tacos   \n",
       "35          18         1    Chicken Soft Tacos   \n",
       "36          18         1    Chicken Soft Tacos   \n",
       "...        ...       ...                   ...   \n",
       "4549      1808         1      Steak Soft Tacos   \n",
       "4550      1809         1    Chicken Soft Tacos   \n",
       "4554      1810         1    Steak Crispy Tacos   \n",
       "4557      1811         1   Carnitas Soft Tacos   \n",
       "4615      1832         1    Chicken Soft Tacos   \n",
       "\n",
       "                                     choice_description item_price  \n",
       "8     [Tomatillo Green Chili Salsa, [Pinto Beans, Ch...      $9.25  \n",
       "11    [Roasted Chili Corn Salsa, [Fajita Vegetables,...      $8.75  \n",
       "12    [Roasted Chili Corn Salsa, [Rice, Black Beans,...      $8.75  \n",
       "35                     [Roasted Chili Corn Salsa, Rice]      $8.75  \n",
       "36        [Roasted Chili Corn Salsa, [Cheese, Lettuce]]      $8.75  \n",
       "...                                                 ...        ...  \n",
       "4549  [Tomatillo Green Chili Salsa, [Rice, Pinto Bea...      $9.25  \n",
       "4550  [Fresh Tomato Salsa, [Fajita Vegetables, Chees...      $8.75  \n",
       "4554  [Roasted Chili Corn Salsa, [Fajita Vegetables,...     $11.75  \n",
       "4557  [Tomatillo Red Chili Salsa, [Fajita Vegetables...      $9.25  \n",
       "4615   [Fresh Tomato Salsa, [Rice, Cheese, Sour Cream]]      $8.75  \n",
       "\n",
       "[345 rows x 5 columns]"
      ]
     },
     "execution_count": 5,
     "metadata": {},
     "output_type": "execute_result"
    }
   ],
   "source": [
    "# making a new df that only contains rows where thcos is found in the item name column\n",
    "tacos = tacos[tacos['item_name']. str. contains('taco', case = False)]\n",
    "tacos"
   ]
  },
  {
   "cell_type": "code",
   "execution_count": 6,
   "id": "03ff145d",
   "metadata": {},
   "outputs": [
    {
     "name": "stderr",
     "output_type": "stream",
     "text": [
      "C:\\Users\\GGPC\\AppData\\Local\\Temp\\ipykernel_20508\\2722485600.py:2: SettingWithCopyWarning: \n",
      "A value is trying to be set on a copy of a slice from a DataFrame.\n",
      "Try using .loc[row_indexer,col_indexer] = value instead\n",
      "\n",
      "See the caveats in the documentation: https://pandas.pydata.org/pandas-docs/stable/user_guide/indexing.html#returning-a-view-versus-a-copy\n",
      "  tacos.loc[:, 'choice_description_length'] = tacos.loc[:,'choice_description'].str.split(',').apply(len)\n"
     ]
    }
   ],
   "source": [
    "# Creating a new column which contains the length of the list from the choice discriptions\n",
    "tacos.loc[:, 'choice_description_length'] = tacos.loc[:,'choice_description'].str.split(',').apply(len)\n"
   ]
  },
  {
   "cell_type": "code",
   "execution_count": 7,
   "id": "d5493c73",
   "metadata": {},
   "outputs": [
    {
     "name": "stderr",
     "output_type": "stream",
     "text": [
      "C:\\Users\\GGPC\\AppData\\Local\\Temp\\ipykernel_20508\\1791479840.py:2: SettingWithCopyWarning: \n",
      "A value is trying to be set on a copy of a slice from a DataFrame.\n",
      "Try using .loc[row_indexer,col_indexer] = value instead\n",
      "\n",
      "See the caveats in the documentation: https://pandas.pydata.org/pandas-docs/stable/user_guide/indexing.html#returning-a-view-versus-a-copy\n",
      "  tacos.loc[:, 'stripped_tacos'] = tacos['item_name']\n"
     ]
    }
   ],
   "source": [
    "#making another column which contains the item name however with the soft/crispy removed\n",
    "tacos.loc[:, 'stripped_tacos'] = tacos['item_name']\n",
    "tacos.loc[tacos['stripped_tacos'].str.contains('Soft '), 'stripped_tacos'] = tacos['stripped_tacos'].str.replace('Soft ', '')\n",
    "tacos.loc[tacos['stripped_tacos'].str.contains('Crispy '), 'stripped_tacos'] = tacos['stripped_tacos'].str.replace('Crispy ', '')\n"
   ]
  },
  {
   "cell_type": "code",
   "execution_count": 8,
   "id": "d6e3530b",
   "metadata": {},
   "outputs": [
    {
     "data": {
      "text/plain": [
       "stripped_tacos\n",
       "Chicken Tacos     163\n",
       "Steak Tacos        91\n",
       "Carnitas Tacos     47\n",
       "Barbacoa Tacos     36\n",
       "Veggie Tacos        8\n",
       "Name: count, dtype: int64"
      ]
     },
     "execution_count": 8,
     "metadata": {},
     "output_type": "execute_result"
    }
   ],
   "source": [
    "#finding the counts for new taco column\n",
    "counts = tacos.stripped_tacos.value_counts()\n",
    "counts"
   ]
  },
  {
   "cell_type": "code",
   "execution_count": 9,
   "id": "e6387e5d",
   "metadata": {
    "scrolled": false
   },
   "outputs": [
    {
     "data": {
      "text/plain": [
       "stripped_tacos\n",
       "Veggie Tacos      6.00\n",
       "Barbacoa Tacos    4.86\n",
       "Carnitas Tacos    4.38\n",
       "Chicken Tacos     4.20\n",
       "Steak Tacos       4.14\n",
       "Name: choice_description_length, dtype: float64"
      ]
     },
     "execution_count": 9,
     "metadata": {},
     "output_type": "execute_result"
    }
   ],
   "source": [
    "# finding the mean chioce discription length by groupoing by the stripped taco column\n",
    "mean_toppings = tacos.groupby('stripped_tacos').choice_description_length.mean().round(2).sort_values(ascending=[False])\n",
    "mean_toppings"
   ]
  },
  {
   "cell_type": "code",
   "execution_count": 10,
   "id": "883e8ea3",
   "metadata": {},
   "outputs": [
    {
     "name": "stderr",
     "output_type": "stream",
     "text": [
      "C:\\Users\\GGPC\\AppData\\Local\\Temp\\ipykernel_20508\\2153948262.py:3: SettingWithCopyWarning: \n",
      "A value is trying to be set on a copy of a slice from a DataFrame.\n",
      "Try using .loc[row_indexer,col_indexer] = value instead\n",
      "\n",
      "See the caveats in the documentation: https://pandas.pydata.org/pandas-docs/stable/user_guide/indexing.html#returning-a-view-versus-a-copy\n",
      "  tacos.loc[:,'cheese'] = tacos['choice_description'].str.contains('cheese', case = False).astype(int)\n",
      "C:\\Users\\GGPC\\AppData\\Local\\Temp\\ipykernel_20508\\2153948262.py:4: SettingWithCopyWarning: \n",
      "A value is trying to be set on a copy of a slice from a DataFrame.\n",
      "Try using .loc[row_indexer,col_indexer] = value instead\n",
      "\n",
      "See the caveats in the documentation: https://pandas.pydata.org/pandas-docs/stable/user_guide/indexing.html#returning-a-view-versus-a-copy\n",
      "  tacos.loc[:,'salsa'] = tacos['choice_description'].str.contains('salsa', case = False).astype(int)\n",
      "C:\\Users\\GGPC\\AppData\\Local\\Temp\\ipykernel_20508\\2153948262.py:5: SettingWithCopyWarning: \n",
      "A value is trying to be set on a copy of a slice from a DataFrame.\n",
      "Try using .loc[row_indexer,col_indexer] = value instead\n",
      "\n",
      "See the caveats in the documentation: https://pandas.pydata.org/pandas-docs/stable/user_guide/indexing.html#returning-a-view-versus-a-copy\n",
      "  tacos.loc[:,'beans'] = tacos['choice_description'].str.contains('beans', case = False).astype(int)\n",
      "C:\\Users\\GGPC\\AppData\\Local\\Temp\\ipykernel_20508\\2153948262.py:6: SettingWithCopyWarning: \n",
      "A value is trying to be set on a copy of a slice from a DataFrame.\n",
      "Try using .loc[row_indexer,col_indexer] = value instead\n",
      "\n",
      "See the caveats in the documentation: https://pandas.pydata.org/pandas-docs/stable/user_guide/indexing.html#returning-a-view-versus-a-copy\n",
      "  tacos.loc[:,'rice'] = tacos['choice_description'].str.contains('rice', case = False).astype(int)\n",
      "C:\\Users\\GGPC\\AppData\\Local\\Temp\\ipykernel_20508\\2153948262.py:7: SettingWithCopyWarning: \n",
      "A value is trying to be set on a copy of a slice from a DataFrame.\n",
      "Try using .loc[row_indexer,col_indexer] = value instead\n",
      "\n",
      "See the caveats in the documentation: https://pandas.pydata.org/pandas-docs/stable/user_guide/indexing.html#returning-a-view-versus-a-copy\n",
      "  tacos.loc[:,'guac'] = tacos['choice_description'].str.contains('guacamole', case = False).astype(int)\n"
     ]
    }
   ],
   "source": [
    "#creating a new colum which returns a boolen true = 1 if the choice describtions contains the topping\n",
    "\n",
    "tacos.loc[:,'cheese'] = tacos['choice_description'].str.contains('cheese', case = False).astype(int)\n",
    "tacos.loc[:,'salsa'] = tacos['choice_description'].str.contains('salsa', case = False).astype(int)\n",
    "tacos.loc[:,'beans'] = tacos['choice_description'].str.contains('beans', case = False).astype(int)\n",
    "tacos.loc[:,'rice'] = tacos['choice_description'].str.contains('rice', case = False).astype(int)\n",
    "tacos.loc[:,'guac'] = tacos['choice_description'].str.contains('guacamole', case = False).astype(int)"
   ]
  },
  {
   "cell_type": "code",
   "execution_count": 11,
   "id": "d4376af3",
   "metadata": {},
   "outputs": [],
   "source": [
    "#creating a new dataframe which is grouped by the name with the colums of count(value count) and mean choice description length\n",
    "taco_toppings = tacos.groupby('stripped_tacos').agg({'item_name': 'count', 'choice_description_length': 'mean'})\n",
    "taco_toppings = taco_toppings.rename(columns={'item_name': 'Count', 'choice_description_length': 'Choices'})"
   ]
  },
  {
   "cell_type": "code",
   "execution_count": 12,
   "id": "b5e9ab36",
   "metadata": {},
   "outputs": [
    {
     "data": {
      "text/html": [
       "<div>\n",
       "<style scoped>\n",
       "    .dataframe tbody tr th:only-of-type {\n",
       "        vertical-align: middle;\n",
       "    }\n",
       "\n",
       "    .dataframe tbody tr th {\n",
       "        vertical-align: top;\n",
       "    }\n",
       "\n",
       "    .dataframe thead th {\n",
       "        text-align: right;\n",
       "    }\n",
       "</style>\n",
       "<table border=\"1\" class=\"dataframe\">\n",
       "  <thead>\n",
       "    <tr style=\"text-align: right;\">\n",
       "      <th></th>\n",
       "      <th>Count</th>\n",
       "      <th>Choices</th>\n",
       "      <th>salsa</th>\n",
       "      <th>cheese</th>\n",
       "      <th>rice</th>\n",
       "      <th>beans</th>\n",
       "      <th>guac</th>\n",
       "      <th>Names</th>\n",
       "    </tr>\n",
       "    <tr>\n",
       "      <th>stripped_tacos</th>\n",
       "      <th></th>\n",
       "      <th></th>\n",
       "      <th></th>\n",
       "      <th></th>\n",
       "      <th></th>\n",
       "      <th></th>\n",
       "      <th></th>\n",
       "      <th></th>\n",
       "    </tr>\n",
       "  </thead>\n",
       "  <tbody>\n",
       "    <tr>\n",
       "      <th>Barbacoa Tacos</th>\n",
       "      <td>36</td>\n",
       "      <td>4.861111</td>\n",
       "      <td>36</td>\n",
       "      <td>31</td>\n",
       "      <td>21</td>\n",
       "      <td>20</td>\n",
       "      <td>12</td>\n",
       "      <td>[Barbacoa Tacos]</td>\n",
       "    </tr>\n",
       "    <tr>\n",
       "      <th>Carnitas Tacos</th>\n",
       "      <td>47</td>\n",
       "      <td>4.382979</td>\n",
       "      <td>47</td>\n",
       "      <td>40</td>\n",
       "      <td>26</td>\n",
       "      <td>15</td>\n",
       "      <td>5</td>\n",
       "      <td>[Carnitas Tacos]</td>\n",
       "    </tr>\n",
       "    <tr>\n",
       "      <th>Chicken Tacos</th>\n",
       "      <td>163</td>\n",
       "      <td>4.196319</td>\n",
       "      <td>162</td>\n",
       "      <td>138</td>\n",
       "      <td>79</td>\n",
       "      <td>44</td>\n",
       "      <td>41</td>\n",
       "      <td>[Chicken Tacos]</td>\n",
       "    </tr>\n",
       "    <tr>\n",
       "      <th>Steak Tacos</th>\n",
       "      <td>91</td>\n",
       "      <td>4.142857</td>\n",
       "      <td>89</td>\n",
       "      <td>76</td>\n",
       "      <td>28</td>\n",
       "      <td>19</td>\n",
       "      <td>20</td>\n",
       "      <td>[Steak Tacos]</td>\n",
       "    </tr>\n",
       "    <tr>\n",
       "      <th>Veggie Tacos</th>\n",
       "      <td>8</td>\n",
       "      <td>6.000000</td>\n",
       "      <td>8</td>\n",
       "      <td>8</td>\n",
       "      <td>5</td>\n",
       "      <td>8</td>\n",
       "      <td>2</td>\n",
       "      <td>[Veggie Tacos]</td>\n",
       "    </tr>\n",
       "  </tbody>\n",
       "</table>\n",
       "</div>"
      ],
      "text/plain": [
       "                Count   Choices  salsa  cheese  rice  beans  guac  \\\n",
       "stripped_tacos                                                      \n",
       "Barbacoa Tacos     36  4.861111     36      31    21     20    12   \n",
       "Carnitas Tacos     47  4.382979     47      40    26     15     5   \n",
       "Chicken Tacos     163  4.196319    162     138    79     44    41   \n",
       "Steak Tacos        91  4.142857     89      76    28     19    20   \n",
       "Veggie Tacos        8  6.000000      8       8     5      8     2   \n",
       "\n",
       "                           Names  \n",
       "stripped_tacos                    \n",
       "Barbacoa Tacos  [Barbacoa Tacos]  \n",
       "Carnitas Tacos  [Carnitas Tacos]  \n",
       "Chicken Tacos    [Chicken Tacos]  \n",
       "Steak Tacos        [Steak Tacos]  \n",
       "Veggie Tacos      [Veggie Tacos]  "
      ]
     },
     "execution_count": 12,
     "metadata": {},
     "output_type": "execute_result"
    }
   ],
   "source": [
    "#adding the sum of the toppings as new columns grouped to the taco name\n",
    "taco_toppings.loc[:, 'salsa'] = tacos.groupby('stripped_tacos')['salsa'].sum()\n",
    "taco_toppings.loc[:, 'cheese'] = tacos.groupby('stripped_tacos')['cheese'].sum()\n",
    "taco_toppings.loc[:, 'rice'] = tacos.groupby('stripped_tacos')['rice'].sum()\n",
    "taco_toppings.loc[:, 'beans'] = tacos.groupby('stripped_tacos')['beans'].sum()\n",
    "taco_toppings.loc[:, 'guac'] = tacos.groupby('stripped_tacos')['guac'].sum()\n",
    "\n",
    "taco_toppings.loc[:, 'Names'] = tacos.groupby('stripped_tacos')['stripped_tacos'].unique()\n",
    "taco_toppings"
   ]
  },
  {
   "cell_type": "code",
   "execution_count": 13,
   "id": "c71d9a12",
   "metadata": {
    "scrolled": false
   },
   "outputs": [
    {
     "data": {
      "text/plain": [
       "<Axes: title={'center': 'Counts of each taco option'}, xlabel='stripped_tacos', ylabel='Frequency'>"
      ]
     },
     "execution_count": 13,
     "metadata": {},
     "output_type": "execute_result"
    },
    {
     "data": {
      "image/png": "[encoded data removed]",
      "text/plain": [
       "<Figure size 640x480 with 1 Axes>"
      ]
     },
     "metadata": {},
     "output_type": "display_data"
    }
   ],
   "source": [
    "taco_toppings.Count.sort_values(ascending=[False]).plot(kind = 'bar',title = \"Counts of each taco option\", ylabel = 'Frequency', color = 'green', alpha = 0.5)"
   ]
  },
  {
   "cell_type": "code",
   "execution_count": 14,
   "id": "11fb0a3f",
   "metadata": {
    "scrolled": false
   },
   "outputs": [
    {
     "data": {
      "text/plain": [
       "<Axes: title={'center': 'Mean number of choices per taco option'}, xlabel='stripped_tacos', ylabel='Frequency'>"
      ]
     },
     "execution_count": 14,
     "metadata": {},
     "output_type": "execute_result"
    },
    {
     "data": {
      "image/png": "[encoded data removed]",
      "text/plain": [
       "<Figure size 640x480 with 1 Axes>"
      ]
     },
     "metadata": {},
     "output_type": "display_data"
    }
   ],
   "source": [
    "taco_toppings.Choices.sort_values(ascending=[False]).plot(kind = 'bar', title = \"Mean number of choices per taco option\", ylabel = 'Frequency', color = 'purple', alpha = 0.5)"
   ]
  },
  {
   "cell_type": "code",
   "execution_count": 15,
   "id": "daab1f87",
   "metadata": {
    "scrolled": false
   },
   "outputs": [
    {
     "data": {
      "text/plain": [
       "<Axes: title={'center': 'Mean number of choices'}, ylabel='Density'>"
      ]
     },
     "execution_count": 15,
     "metadata": {},
     "output_type": "execute_result"
    },
    {
     "data": {
      "image/png": "[encoded data removed]",
      "text/plain": [
       "<Figure size 640x480 with 1 Axes>"
      ]
     },
     "metadata": {},
     "output_type": "display_data"
    }
   ],
   "source": [
    "tacos.choice_description_length.plot(kind = 'density', title = \"Mean number of choices\")"
   ]
  },
  {
   "cell_type": "code",
   "execution_count": 16,
   "id": "3953b72d",
   "metadata": {},
   "outputs": [
    {
     "data": {
      "text/plain": [
       "<Axes: xlabel='Count', ylabel='Choices'>"
      ]
     },
     "execution_count": 16,
     "metadata": {},
     "output_type": "execute_result"
    },
    {
     "data": {
      "image/png": "[encoded data removed]",
      "text/plain": [
       "<Figure size 640x480 with 1 Axes>"
      ]
     },
     "metadata": {},
     "output_type": "display_data"
    }
   ],
   "source": [
    "X = 'Choices'\n",
    "y = 'Count'\n",
    "sns.scatterplot(data=taco_toppings, x=y, y= X, hue = 'stripped_tacos', size = 'Count', sizes = (50,1000), legend = 'auto')"
   ]
  },
  {
   "cell_type": "code",
   "execution_count": 17,
   "id": "d3b57c16",
   "metadata": {
    "scrolled": false
   },
   "outputs": [
    {
     "ename": "NameError",
     "evalue": "name 'plt' is not defined",
     "output_type": "error",
     "traceback": [
      "\u001b[1;31m---------------------------------------------------------------------------\u001b[0m",
      "\u001b[1;31mNameError\u001b[0m                                 Traceback (most recent call last)",
      "Cell \u001b[1;32mIn[17], line 10\u001b[0m\n\u001b[0;32m      7\u001b[0m toppings \u001b[38;5;241m=\u001b[39m row[[\u001b[38;5;124m'\u001b[39m\u001b[38;5;124msalsa\u001b[39m\u001b[38;5;124m'\u001b[39m, \u001b[38;5;124m'\u001b[39m\u001b[38;5;124mcheese\u001b[39m\u001b[38;5;124m'\u001b[39m, \u001b[38;5;124m'\u001b[39m\u001b[38;5;124mrice\u001b[39m\u001b[38;5;124m'\u001b[39m, \u001b[38;5;124m'\u001b[39m\u001b[38;5;124mbeans\u001b[39m\u001b[38;5;124m'\u001b[39m, \u001b[38;5;124m'\u001b[39m\u001b[38;5;124mguac\u001b[39m\u001b[38;5;124m'\u001b[39m]]\n\u001b[0;32m      9\u001b[0m toppings\u001b[38;5;241m.\u001b[39mplot(kind \u001b[38;5;241m=\u001b[39m \u001b[38;5;124m'\u001b[39m\u001b[38;5;124mbar\u001b[39m\u001b[38;5;124m'\u001b[39m, title \u001b[38;5;241m=\u001b[39m \u001b[38;5;124m'\u001b[39m\u001b[38;5;132;01m{}\u001b[39;00m\u001b[38;5;124m'\u001b[39m\u001b[38;5;241m.\u001b[39mformat(name), legend\u001b[38;5;241m=\u001b[39m\u001b[38;5;28;01mTrue\u001b[39;00m, color\u001b[38;5;241m=\u001b[39mcolors, alpha\u001b[38;5;241m=\u001b[39m\u001b[38;5;241m0.5\u001b[39m)\n\u001b[1;32m---> 10\u001b[0m plt\u001b[38;5;241m.\u001b[39mxlabel(\u001b[38;5;124m'\u001b[39m\u001b[38;5;124mName\u001b[39m\u001b[38;5;124m'\u001b[39m)\n\u001b[0;32m     11\u001b[0m plt\u001b[38;5;241m.\u001b[39mylabel(\u001b[38;5;124m'\u001b[39m\u001b[38;5;124mtoppings\u001b[39m\u001b[38;5;124m'\u001b[39m)\n\u001b[0;32m     12\u001b[0m plt\u001b[38;5;241m.\u001b[39mshow()\n",
      "\u001b[1;31mNameError\u001b[0m: name 'plt' is not defined"
     ]
    },
    {
     "data": {
      "image/png": "[encoded data removed]",
      "text/plain": [
       "<Figure size 640x480 with 1 Axes>"
      ]
     },
     "metadata": {},
     "output_type": "display_data"
    }
   ],
   "source": [
    "#creating a loop which will go though the rows of the Names column and make a plot for each with the info from the same row in the wanted columns\n",
    "#also adds a title.\n",
    "colors = ['red', 'blue', 'green', 'purple', 'orange']\n",
    "\n",
    "for index, row in taco_toppings.iterrows():\n",
    "    name = row['Names']\n",
    "    toppings = row[['salsa', 'cheese', 'rice', 'beans', 'guac']]\n",
    "    \n",
    "    toppings.plot(kind = 'bar', title = '{}'.format(name), legend=True, color=colors, alpha=0.5)\n",
    "    plt.xlabel('Name')\n",
    "    plt.ylabel('toppings')\n",
    "    plt.show()"
   ]
  },
  {
   "cell_type": "code",
   "execution_count": null,
   "id": "91fb72f9",
   "metadata": {},
   "outputs": [],
   "source": [
    "import matplotlib.pyplot as plt"
   ]
  },
  {
   "cell_type": "code",
   "execution_count": null,
   "id": "b95e3aa5",
   "metadata": {},
   "outputs": [],
   "source": [
    "import seaborn as sns\n",
    "tacodrop = tacos.iloc[:,5:]"
   ]
  },
  {
   "cell_type": "code",
   "execution_count": null,
   "id": "ebf53cfd",
   "metadata": {},
   "outputs": [],
   "source": [
    "cor_matrix = tacos[['choice_description_length', 'salsa', 'cheese', 'rice', 'beans', 'guac']].corr()\n",
    "sns.heatmap(cor_matrix, annot = True)"
   ]
  },
  {
   "cell_type": "code",
   "execution_count": null,
   "id": "11617f84",
   "metadata": {},
   "outputs": [],
   "source": [
    "g = sns.displot(tacos, x= 'choice_description_length', hue = 'stripped_tacos', col = 'stripped_tacos', kde= True)"
   ]
  },
  {
   "cell_type": "code",
   "execution_count": null,
   "id": "22169d6f",
   "metadata": {
    "scrolled": false
   },
   "outputs": [],
   "source": [
    "taco_toppings2 = taco_toppings.drop(columns=['Names'])\n",
    "\n",
    "for column in taco_toppings2:\n",
    "    plt.figure(figsize=(10,8))\n",
    "    sns.displot(taco_toppings2, x= 'stripped_tacos', y = column, hue = 'stripped_tacos', aspect = 1.5, legend = False)"
   ]
  }
 ],
 "metadata": {
  "kernelspec": {
   "display_name": "Python 3 (ipykernel)",
   "language": "python",
   "name": "python3"
  },
  "language_info": {
   "codemirror_mode": {
    "name": "ipython",
    "version": 3
   },
   "file_extension": ".py",
   "mimetype": "text/x-python",
   "name": "python",
   "nbconvert_exporter": "python",
   "pygments_lexer": "ipython3",
   "version": "3.11.5"
  }
 },
 "nbformat": 4,
 "nbformat_minor": 5
}
